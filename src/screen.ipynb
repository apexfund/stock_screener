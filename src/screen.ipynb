{
 "cells": [
  {
   "cell_type": "code",
   "execution_count": 5,
   "metadata": {},
   "outputs": [
    {
     "name": "stdout",
     "output_type": "stream",
     "text": [
      "Requirement already satisfied: yfinance in /Users/varun_vishnubhotla/opt/anaconda3/lib/python3.8/site-packages (0.2.12)\n",
      "Requirement already satisfied: pytz>=2022.5 in /Users/varun_vishnubhotla/opt/anaconda3/lib/python3.8/site-packages (from yfinance) (2022.7.1)\n",
      "Requirement already satisfied: lxml>=4.9.1 in /Users/varun_vishnubhotla/opt/anaconda3/lib/python3.8/site-packages (from yfinance) (4.9.1)\n",
      "Requirement already satisfied: pandas>=1.3.0 in /Users/varun_vishnubhotla/opt/anaconda3/lib/python3.8/site-packages (from yfinance) (1.5.3)\n",
      "Requirement already satisfied: frozendict>=2.3.4 in /Users/varun_vishnubhotla/opt/anaconda3/lib/python3.8/site-packages (from yfinance) (2.3.5)\n",
      "Requirement already satisfied: html5lib>=1.1 in /Users/varun_vishnubhotla/opt/anaconda3/lib/python3.8/site-packages (from yfinance) (1.1)\n",
      "Requirement already satisfied: beautifulsoup4>=4.11.1 in /Users/varun_vishnubhotla/opt/anaconda3/lib/python3.8/site-packages (from yfinance) (4.11.1)\n",
      "Requirement already satisfied: appdirs>=1.4.4 in /Users/varun_vishnubhotla/opt/anaconda3/lib/python3.8/site-packages (from yfinance) (1.4.4)\n",
      "Requirement already satisfied: cryptography>=3.3.2 in /Users/varun_vishnubhotla/opt/anaconda3/lib/python3.8/site-packages (from yfinance) (37.0.1)\n",
      "Requirement already satisfied: numpy>=1.16.5 in /Users/varun_vishnubhotla/opt/anaconda3/lib/python3.8/site-packages (from yfinance) (1.24.2)\n",
      "Requirement already satisfied: requests>=2.26 in /Users/varun_vishnubhotla/opt/anaconda3/lib/python3.8/site-packages (from yfinance) (2.28.2)\n",
      "Requirement already satisfied: multitasking>=0.0.7 in /Users/varun_vishnubhotla/opt/anaconda3/lib/python3.8/site-packages (from yfinance) (0.0.11)\n",
      "Requirement already satisfied: soupsieve>1.2 in /Users/varun_vishnubhotla/opt/anaconda3/lib/python3.8/site-packages (from beautifulsoup4>=4.11.1->yfinance) (2.3.1)\n",
      "Requirement already satisfied: cffi>=1.12 in /Users/varun_vishnubhotla/opt/anaconda3/lib/python3.8/site-packages (from cryptography>=3.3.2->yfinance) (1.15.1)\n",
      "Requirement already satisfied: six>=1.9 in /Users/varun_vishnubhotla/opt/anaconda3/lib/python3.8/site-packages (from html5lib>=1.1->yfinance) (1.16.0)\n",
      "Requirement already satisfied: webencodings in /Users/varun_vishnubhotla/opt/anaconda3/lib/python3.8/site-packages (from html5lib>=1.1->yfinance) (0.5.1)\n",
      "Requirement already satisfied: python-dateutil>=2.8.1 in /Users/varun_vishnubhotla/opt/anaconda3/lib/python3.8/site-packages (from pandas>=1.3.0->yfinance) (2.8.2)\n",
      "Requirement already satisfied: charset-normalizer<4,>=2 in /Users/varun_vishnubhotla/opt/anaconda3/lib/python3.8/site-packages (from requests>=2.26->yfinance) (2.1.0)\n",
      "Requirement already satisfied: urllib3<1.27,>=1.21.1 in /Users/varun_vishnubhotla/opt/anaconda3/lib/python3.8/site-packages (from requests>=2.26->yfinance) (1.26.14)\n",
      "Requirement already satisfied: idna<4,>=2.5 in /Users/varun_vishnubhotla/opt/anaconda3/lib/python3.8/site-packages (from requests>=2.26->yfinance) (3.3)\n",
      "Requirement already satisfied: certifi>=2017.4.17 in /Users/varun_vishnubhotla/opt/anaconda3/lib/python3.8/site-packages (from requests>=2.26->yfinance) (2022.6.15)\n",
      "Requirement already satisfied: pycparser in /Users/varun_vishnubhotla/opt/anaconda3/lib/python3.8/site-packages (from cffi>=1.12->cryptography>=3.3.2->yfinance) (2.21)\n",
      "Requirement already satisfied: requests in /Users/varun_vishnubhotla/opt/anaconda3/lib/python3.8/site-packages (2.28.2)\n",
      "Requirement already satisfied: idna<4,>=2.5 in /Users/varun_vishnubhotla/opt/anaconda3/lib/python3.8/site-packages (from requests) (3.3)\n",
      "Requirement already satisfied: certifi>=2017.4.17 in /Users/varun_vishnubhotla/opt/anaconda3/lib/python3.8/site-packages (from requests) (2022.6.15)\n",
      "Requirement already satisfied: urllib3<1.27,>=1.21.1 in /Users/varun_vishnubhotla/opt/anaconda3/lib/python3.8/site-packages (from requests) (1.26.14)\n",
      "Requirement already satisfied: charset-normalizer<4,>=2 in /Users/varun_vishnubhotla/opt/anaconda3/lib/python3.8/site-packages (from requests) (2.1.0)\n",
      "Requirement already satisfied: urllib3 in /Users/varun_vishnubhotla/opt/anaconda3/lib/python3.8/site-packages (1.26.14)\n"
     ]
    }
   ],
   "source": [
    "!pip install yfinance --upgrade --no-cache-dir\n",
    "!pip install requests --upgrade\n",
    "!pip install urllib3 --upgrade"
   ]
  },
  {
   "cell_type": "code",
   "execution_count": 6,
   "metadata": {},
   "outputs": [
    {
     "ename": "ModuleNotFoundError",
     "evalue": "No module named 'yfinance'",
     "output_type": "error",
     "traceback": [
      "\u001b[0;31m---------------------------------------------------------------------------\u001b[0m",
      "\u001b[0;31mModuleNotFoundError\u001b[0m                       Traceback (most recent call last)",
      "Cell \u001b[0;32mIn[6], line 1\u001b[0m\n\u001b[0;32m----> 1\u001b[0m \u001b[39mimport\u001b[39;00m \u001b[39myfinance\u001b[39;00m \u001b[39mas\u001b[39;00m \u001b[39myf\u001b[39;00m\n\u001b[1;32m      2\u001b[0m \u001b[39mimport\u001b[39;00m \u001b[39mnumpy\u001b[39;00m\n\u001b[1;32m      3\u001b[0m \u001b[39mimport\u001b[39;00m \u001b[39mpandas\u001b[39;00m\n",
      "\u001b[0;31mModuleNotFoundError\u001b[0m: No module named 'yfinance'"
     ]
    }
   ],
   "source": [
    "import yfinance as yf\n",
    "import numpy\n",
    "import pandas\n",
    "import requests \n",
    "import json\n",
    "\n",
    "from google.colab import files\n",
    "from google.colab import drive\n",
    "import os"
   ]
  },
  {
   "cell_type": "code",
   "execution_count": null,
   "metadata": {},
   "outputs": [],
   "source": [
    "'''\n",
    "Task Outline\n",
    "\n",
    "a. Obtain CSV of all stock tickers ✅\n",
    "b. Conduct Analysis for Bollinger Bands and Keltner Channels in mechanism for detecting consolidation ✅\n",
    "c. Analysis for the Zeta Model\n",
    "d. conglomerate them all into one stock screener than prints out the list of all the stock tickers that we should run Black Scholes and Monte Carlo on\n",
    "\n",
    "'''"
   ]
  },
  {
   "cell_type": "code",
   "execution_count": null,
   "metadata": {},
   "outputs": [],
   "source": [
    "# PART A\n",
    "\n",
    "data = pandas.read_html('https://en.wikipedia.org/wiki/List_of_S%26P_500_companies')\n",
    "data[0].head()\n",
    "data = data[0]['Symbol']\n",
    "\n",
    "data.to_csv('S&P500tickers.csv', mode = 'w', index = False)\n",
    "files.download('S&P500tickers.csv')"
   ]
  },
  {
   "cell_type": "code",
   "execution_count": null,
   "metadata": {},
   "outputs": [],
   "source": [
    "with open('S&P500tickers.csv') as f:\n",
    "  symbols = f.read().splitlines()\n",
    "  symbols.pop(0)\n",
    "\n",
    "\n",
    "  for i in symbols:\n",
    "      ticker_dta = yfinance.download(i, start = \"2022-04-02\", end = \"2023-02-11\") # arbitrarily chosen 45 weeks (6 -> 65 weeks)\n",
    "      drive.mount('/drive')\n",
    "      ticker_dta.to_csv('/drive/My Drive/stock_screener/{}.csv'.format(i), encoding='utf-8', index=False)\n",
    "  "
   ]
  },
  {
   "cell_type": "code",
   "execution_count": null,
   "metadata": {},
   "outputs": [],
   "source": [
    "from IPython.lib.security import passwd\n",
    "drive.mount('/drive')\n",
    "dir = '/drive/MyDrive/stock_screener/'\n",
    "\n",
    "def s_mov_avg(df, lookback_window):\n",
    "  sma = df['Close'].rolling(window = lookback_window, min_periods = 1).mean()  \n",
    "  std = df['Close'].rolling(window = lookback_window, min_periods = 1).std()\n",
    "  return sma, std\n",
    "\n",
    "def atr(df, lookback_window):\n",
    "  atr_ = df['True Range'].rolling(window = lookback_window, min_periods = 1).mean()\n",
    "  return atr_\n",
    "\n",
    "\n",
    "def in_consolidation(curr_df):\n",
    "  return (curr_df['Lower Bollinger Band'] > curr_df['Lower Keltner Channel']) \\\n",
    "          and (curr_df['Upper Bollinger Band']  < curr_df['Upper Keltner Channel'])\n",
    "\n",
    "symbols_of_companies = []\n",
    "for file in os.listdir(dir):\n",
    "  symbol = file.split()[0]\n",
    "  symbols_of_companies.append(symbol[:-4])\n",
    "  curr_df = pandas.read_csv(dir + \"{}\".format(file))\n",
    "  if not curr_df.empty:\n",
    "    sma, std = s_mov_avg(curr_df, 20)\n",
    "    curr_df['Upper Bollinger Band'] = sma + 2 * std\n",
    "    curr_df['Lower Bollinger Band'] = sma - 2 * std\n",
    "    curr_df['Middle Bollinger Band'] = sma\n",
    "    curr_df['Standard Deviation'] = std\n",
    "\n",
    "    curr_df[\"True Range\"] = abs(curr_df[\"High\"] - curr_df[\"Low\"])\n",
    "    curr_df['Average True Range'] = atr(curr_df, 20)\n",
    "\n",
    "    curr_df['Upper Keltner Channel'] = curr_df['Middle Bollinger Band'] + 1.2 * curr_df['Average True Range']\n",
    "    curr_df['Lower Keltner Channel'] = curr_df['Middle Bollinger Band'] - 1.2 * curr_df['Average True Range'] \n",
    "\n",
    "    # in consolidation\n",
    "\n",
    "    curr_df['Consolidation Status'] = curr_df.apply(in_consolidation, axis = 1)\n"
   ]
  },
  {
   "cell_type": "code",
   "execution_count": null,
   "metadata": {},
   "outputs": [],
   "source": [
    "symbols_of_companies\n",
    "consolidated_status = curr_df['Consolidation Status'].to_list()\n",
    "\n",
    "mapped_to_consol = dict(zip(symbols_of_companies, consolidated_status))\n",
    "\n",
    "tb_deleted = []\n",
    "for k,v in mapped_to_consol.items():\n",
    "  if not v:\n",
    "    tb_deleted.append(k)\n",
    "\n",
    "for i in tb_deleted:\n",
    "  del mapped_to_consol[i]\n",
    "\n"
   ]
  },
  {
   "cell_type": "code",
   "execution_count": null,
   "metadata": {},
   "outputs": [
    {
     "ename": "NameError",
     "evalue": "name 'mapped_to_consol' is not defined",
     "output_type": "error",
     "traceback": [
      "\u001b[0;31m---------------------------------------------------------------------------\u001b[0m",
      "\u001b[0;31mNameError\u001b[0m                                 Traceback (most recent call last)",
      "Cell \u001b[0;32mIn[2], line 1\u001b[0m\n\u001b[0;32m----> 1\u001b[0m tckr_lst \u001b[39m=\u001b[39m \u001b[39mlist\u001b[39m(mapped_to_consol\u001b[39m.\u001b[39mkeys())\n\u001b[1;32m      4\u001b[0m FMP_API_KEY \u001b[39m=\u001b[39m \u001b[39m\"\u001b[39m\u001b[39m1b000ffcda4a16a7cf6ea29445140466\u001b[39m\u001b[39m\"\u001b[39m\n\u001b[1;32m      7\u001b[0m \u001b[39mdef\u001b[39;00m \u001b[39mget_symbol_mkt_cap\u001b[39m(symbol):\n",
      "\u001b[0;31mNameError\u001b[0m: name 'mapped_to_consol' is not defined"
     ]
    }
   ],
   "source": [
    "tckr_lst = list(mapped_to_consol.keys())\n",
    "\n",
    "\n",
    "FMP_API_KEY = \"1b000ffcda4a16a7cf6ea29445140466\"\n",
    "\n",
    "\n",
    "def get_symbol_mkt_cap(symbol):\n",
    "    \n",
    "    session = requests.Session()\n",
    "\n",
    "    request = f\"https://financialmodelingprep.com/api/v3/market-capitalization/{symbol}?apikey={FMP_API_KEY}\".replace(\" \", \"\")\n",
    "\n",
    "    r = session.get(request)\n",
    "\n",
    "    if r.status_code == requests.codes.ok:\n",
    "      \n",
    "        df = pandas.DataFrame(json.loads(r.text))\n",
    "\n",
    "    return df\n",
    "        \n",
    "    \n",
    "def get_balance_sheet(symbol, lookback):\n",
    "    \n",
    "    session = requests.Session()\n",
    "    \n",
    "    request = f\"https://financialmodelingprep.com/api/v3/balance-sheet-statement/{symbol}?limit={lookback}&apikey={FMP_API_KEY}\".replace(\" \", \"\")\n",
    "    \n",
    "    r = session.get(request)\n",
    "    \n",
    "    if r.status_code == requests.codes.ok:\n",
    "        \n",
    "        df = pandas.DataFrame(json.loads(r.text))\n",
    "        \n",
    "    return df\n",
    "\n",
    "\n",
    "def get_income_statement(symbol, lookback):\n",
    "    \n",
    "    session = requests.Session()\n",
    "    \n",
    "    request = f\"https://financialmodelingprep.com/api/v3/income-statement/{symbol}?limit={lookback}&apikey={FMP_API_KEY}\".replace(\" \", \"\")\n",
    "    \n",
    "    r = session.get(request)\n",
    "    \n",
    "    if r.status_code == requests.codes.ok:\n",
    "        \n",
    "        df = pandas.DataFrame(json.loads(r.text))\n",
    "        \n",
    "    return df\n",
    "\n",
    "def get_key_metrics(symbol, lookback):\n",
    "    \n",
    "    session = requests.Session()\n",
    "    \n",
    "    request = f\"https://financialmodelingprep.com/api/v3/key-metrics-ttm/{symbol}?apikey={FMP_API_KEY}&limit={lookback}\".replace(\" \", \"\")\n",
    "    \n",
    "    r = session.get(request)\n",
    "    \n",
    "    if r.status_code == requests.codes.ok:\n",
    "        \n",
    "        df = pandas.DataFrame(json.loads(r.text))\n",
    "        \n",
    "    return df\n"
   ]
  },
  {
   "cell_type": "code",
   "execution_count": null,
   "metadata": {},
   "outputs": [
    {
     "ename": "NameError",
     "evalue": "name 'tckr_lst' is not defined",
     "output_type": "error",
     "traceback": [
      "\u001b[0;31m---------------------------------------------------------------------------\u001b[0m",
      "\u001b[0;31mNameError\u001b[0m                                 Traceback (most recent call last)",
      "Cell \u001b[0;32mIn[3], line 5\u001b[0m\n\u001b[1;32m      1\u001b[0m \u001b[39m# extracts company data for zeta model calculation\u001b[39;00m\n\u001b[1;32m      3\u001b[0m zeta_lst \u001b[39m=\u001b[39m []\n\u001b[0;32m----> 5\u001b[0m \u001b[39mfor\u001b[39;00m i \u001b[39min\u001b[39;00m tckr_lst:\n\u001b[1;32m      6\u001b[0m   market_cap \u001b[39m=\u001b[39m get_symbol_mkt_cap(symbol \u001b[39m=\u001b[39m i)\n\u001b[1;32m      7\u001b[0m   balance_sheet \u001b[39m=\u001b[39m get_balance_sheet(symbol\u001b[39m=\u001b[39m i, lookback\u001b[39m=\u001b[39m\u001b[39m1\u001b[39m)\n",
      "\u001b[0;31mNameError\u001b[0m: name 'tckr_lst' is not defined"
     ]
    }
   ],
   "source": [
    "# extracts company data for zeta model calculation\n",
    "\n",
    "zeta_lst = []\n",
    "\n",
    "for i in tckr_lst:\n",
    "  market_cap = get_symbol_mkt_cap(symbol = i)\n",
    "  balance_sheet = get_balance_sheet(symbol= i, lookback=1)\n",
    "  income_statement = get_income_statement(symbol = i, lookback = 1)\n",
    "  key_metrics = get_key_metrics(symbol=i, lookback=1)\n",
    "\n",
    "\n",
    "  coefficient_A = key_metrics[\"workingCapitalTTM\"] / balance_sheet[\"totalAssets\"]\n",
    "  coefficient_B = balance_sheet[\"retainedEarnings\"] / balance_sheet[\"totalAssets\"]\n",
    "  coefficient_C = (income_statement[\"ebitda\"] - income_statement['depreciationAndAmortization']) / balance_sheet[\"totalAssets\"]\n",
    "  coefficient_D = market_cap['marketCap'] / balance_sheet[\"totalLiabilities\"]\n",
    "  coefficient_E =  income_statement[\"revenue\"] / balance_sheet[\"totalAssets\"]\n",
    "\n",
    "  # fidget with the coefficients\n",
    "  zeta_score = 1.2*coefficient_A + 1.4*coefficient_B + 3.3*coefficient_C + 0.6*coefficient_D + 1.0*coefficient_E\n",
    "  # print(zeta_score)\n",
    "  zeta_lst.append((i, zeta_score))\n",
    "\n"
   ]
  },
  {
   "cell_type": "code",
   "execution_count": null,
   "metadata": {},
   "outputs": [
    {
     "name": "stdout",
     "output_type": "stream",
     "text": [
      "[]\n"
     ]
    }
   ],
   "source": [
    "ans = []\n",
    "for i in zeta_lst:\n",
    "  ans.append((i[0], i[1].values))\n",
    "\n",
    "\n",
    "ans = [(x, float(y)) for x,y in ans]\n",
    "\n",
    "# Z score of >= 3 indicates prime credibility (top 1%) thus based on this ticker ADBE and ADM are indicators of possible stocks\n",
    "\n",
    "\n",
    "stocks_to_invest = []\n",
    "counter = len(ans)\n",
    "\n",
    "while counter >= 1:\n",
    "  if ans[counter - 1][1] >= 3:\n",
    "    stocks_to_invest.append(ans[counter - 1][0])\n",
    "  \n",
    "  counter -=1\n",
    "\n",
    "# ***********************\n",
    "print(stocks_to_invest)\n",
    "# ***********************"
   ]
  }
 ],
 "metadata": {
  "kernelspec": {
   "display_name": "Python 3",
   "language": "python",
   "name": "python3"
  },
  "language_info": {
   "codemirror_mode": {
    "name": "ipython",
    "version": 3
   },
   "file_extension": ".py",
   "mimetype": "text/x-python",
   "name": "python",
   "nbconvert_exporter": "python",
   "pygments_lexer": "ipython3",
   "version": "3.9.6"
  },
  "orig_nbformat": 4,
  "vscode": {
   "interpreter": {
    "hash": "31f2aee4e71d21fbe5cf8b01ff0e069b9275f58929596ceb00d14d90e3e16cd6"
   }
  }
 },
 "nbformat": 4,
 "nbformat_minor": 2
}
