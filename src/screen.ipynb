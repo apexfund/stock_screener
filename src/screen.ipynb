{
 "cells": [
  {
   "cell_type": "code",
   "execution_count": null,
   "metadata": {},
   "outputs": [],
   "source": [
    "!pip install yfinance"
   ]
  },
  {
   "cell_type": "code",
   "execution_count": null,
   "metadata": {},
   "outputs": [],
   "source": [
    "import yfinance\n",
    "import numpy\n",
    "import pandas\n",
    "\n",
    "from google.colab import files\n",
    "from google.colab import drive\n",
    "import os\n"
   ]
  },
  {
   "cell_type": "code",
   "execution_count": null,
   "metadata": {},
   "outputs": [],
   "source": [
    "'''\n",
    "Task Outline\n",
    "\n",
    "a. Obtain CSV of all stock tickers ✅\n",
    "b. Conduct Analysis for Bollinger Bands and Keltner Channels in mechanism for detecting consolidation ✅\n",
    "c. Analysis for the Zeta Model\n",
    "d. conglomerate them all into one stock screener than prints out the list of all the stock tickers that we should run Black Scholes and Monte Carlo on\n",
    "\n",
    "'''"
   ]
  },
  {
   "cell_type": "code",
   "execution_count": null,
   "metadata": {},
   "outputs": [],
   "source": [
    "# PART A\n",
    "\n",
    "data = pandas.read_html('https://en.wikipedia.org/wiki/List_of_S%26P_500_companies')\n",
    "data[0].head()\n",
    "data = data[0]['Symbol']\n",
    "\n",
    "data.to_csv('S&P500tickers.csv', mode = 'w', index = False)\n",
    "files.download('S&P500tickers.csv')"
   ]
  },
  {
   "cell_type": "code",
   "execution_count": null,
   "metadata": {},
   "outputs": [],
   "source": [
    "with open('S&P500tickers.csv') as f:\n",
    "  symbols = f.read().splitlines()\n",
    "  symbols.pop(0)\n",
    "\n",
    "\n",
    "  for i in symbols:\n",
    "      ticker_dta = yfinance.download(i, start = \"2022-04-02\", end = \"2023-02-11\") # arbitrarily chosen 45 weeks (6 -> 65 weeks)\n",
    "      drive.mount('/drive')\n",
    "      ticker_dta.to_csv('/drive/My Drive/stock_screener/{}.csv'.format(i), encoding='utf-8', index=False)\n",
    "  "
   ]
  },
  {
   "cell_type": "code",
   "execution_count": null,
   "metadata": {},
   "outputs": [],
   "source": [
    "from IPython.lib.security import passwd\n",
    "drive.mount('/drive')\n",
    "dir = '/drive/MyDrive/stock_screener/'\n",
    "\n",
    "def s_mov_avg(df, lookback_window):\n",
    "  sma = df['Close'].rolling(window = lookback_window, min_periods = 1).mean()  \n",
    "  std = df['Close'].rolling(window = lookback_window, min_periods = 1).std()\n",
    "  return sma, std\n",
    "\n",
    "def atr(df, lookback_window):\n",
    "  atr_ = df['True Range'].rolling(window = lookback_window, min_periods = 1).mean()\n",
    "  return atr_\n",
    "\n",
    "\n",
    "def in_consolidation(curr_df):\n",
    "  return (curr_df['Lower Bollinger Band'] > curr_df['Lower Keltner Channel']) \\\n",
    "          and (curr_df['Upper Bollinger Band']  < curr_df['Upper Keltner Channel'])\n",
    "\n",
    "symbols_of_companies = []\n",
    "for file in os.listdir(dir):\n",
    "  symbol = file.split()[0]\n",
    "  symbols_of_companies.append(symbol[:-4])\n",
    "  curr_df = pandas.read_csv(dir + \"{}\".format(file))\n",
    "  if not curr_df.empty:\n",
    "    sma, std = s_mov_avg(curr_df, 20)\n",
    "    curr_df['Upper Bollinger Band'] = sma + 2 * std\n",
    "    curr_df['Lower Bollinger Band'] = sma - 2 * std\n",
    "    curr_df['Middle Bollinger Band'] = sma\n",
    "    curr_df['Standard Deviation'] = std\n",
    "\n",
    "    curr_df[\"True Range\"] = abs(curr_df[\"High\"] - curr_df[\"Low\"])\n",
    "    curr_df['Average True Range'] = atr(curr_df, 20)\n",
    "\n",
    "    curr_df['Upper Keltner Channel'] = curr_df['Middle Bollinger Band'] + 1.2 * curr_df['Average True Range']\n",
    "    curr_df['Lower Keltner Channel'] = curr_df['Middle Bollinger Band'] - 1.2 * curr_df['Average True Range'] \n",
    "\n",
    "    # in consolidation\n",
    "\n",
    "    curr_df['Consolidation Status'] = curr_df.apply(in_consolidation, axis = 1)\n"
   ]
  },
  {
   "cell_type": "code",
   "execution_count": null,
   "metadata": {},
   "outputs": [],
   "source": [
    "symbols_of_companies\n",
    "consolidated_status = curr_df['Consolidation Status'].to_list()\n",
    "\n",
    "mapped_to_consol = dict(zip(symbols_of_companies, consolidated_status))\n",
    "\n",
    "tb_deleted = []\n",
    "for k,v in mapped_to_consol.items():\n",
    "  if not v:\n",
    "    tb_deleted.append(k)\n",
    "\n",
    "for i in tb_deleted:\n",
    "  del mapped_to_consol[i]\n",
    "\n"
   ]
  },
  {
   "cell_type": "code",
   "execution_count": null,
   "metadata": {},
   "outputs": [],
   "source": []
  }
 ],
 "metadata": {
  "kernelspec": {
   "display_name": "Python 3",
   "language": "python",
   "name": "python3"
  },
  "language_info": {
   "codemirror_mode": {
    "name": "ipython",
    "version": 3
   },
   "file_extension": ".py",
   "mimetype": "text/x-python",
   "name": "python",
   "nbconvert_exporter": "python",
   "pygments_lexer": "ipython3",
   "version": "3.9.6"
  },
  "orig_nbformat": 4,
  "vscode": {
   "interpreter": {
    "hash": "31f2aee4e71d21fbe5cf8b01ff0e069b9275f58929596ceb00d14d90e3e16cd6"
   }
  }
 },
 "nbformat": 4,
 "nbformat_minor": 2
}
